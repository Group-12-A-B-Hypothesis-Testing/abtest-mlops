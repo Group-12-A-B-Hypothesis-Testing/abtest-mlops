{
 "cells": [
  {
   "cell_type": "code",
   "execution_count": 58,
   "id": "7cefaba2",
   "metadata": {},
   "outputs": [],
   "source": [
    "#import requiered libraries\n",
    "import os\n",
    "import warnings\n",
    "import sys\n",
    "from matplotlib import pyplot\n",
    "import dvc.api\n",
    "import pandas as pd\n",
    "import numpy as np\n",
    "from sklearn.metrics import mean_squared_error, mean_absolute_error, r2_score\n",
    "from sklearn.model_selection import train_test_split\n",
    "from sklearn.linear_model import ElasticNet, LogisticRegression\n",
    "from sklearn.preprocessing import LabelEncoder\n",
    "from fast_ml.model_development import train_valid_test_split\n",
    "from sklearn.tree import DecisionTreeClassifier\n",
    "from urllib.parse import urlparse\n",
    "from sklearn import preprocessing\n"
   ]
  },
  {
   "cell_type": "code",
   "execution_count": 49,
   "id": "a11d93c4",
   "metadata": {},
   "outputs": [],
   "source": [
    "import warnings\n",
    "warnings.filterwarnings('ignore')"
   ]
  },
  {
   "cell_type": "code",
   "execution_count": 51,
   "id": "eb801d91",
   "metadata": {},
   "outputs": [],
   "source": [
    "sys.path.append(os.path.abspath(os.path.join('../scripts')))\n",
    "from train_classifiers import TrainingClassifier \n"
   ]
  },
  {
   "cell_type": "code",
   "execution_count": 26,
   "id": "cf14b9fe",
   "metadata": {},
   "outputs": [],
   "source": [
    "cleaned_df  = pd.read_csv('../data/clean_data.csv')"
   ]
  },
  {
   "cell_type": "code",
   "execution_count": 6,
   "id": "dc05f602",
   "metadata": {
    "scrolled": true
   },
   "outputs": [
    {
     "name": "stdout",
     "output_type": "stream",
     "text": [
      "<class 'pandas.core.frame.DataFrame'>\n",
      "RangeIndex: 1243 entries, 0 to 1242\n",
      "Data columns (total 9 columns):\n",
      " #   Column       Non-Null Count  Dtype \n",
      "---  ------       --------------  ----- \n",
      " 0   Unnamed: 0   1243 non-null   int64 \n",
      " 1   auction_id   1243 non-null   object\n",
      " 2   experiment   1243 non-null   object\n",
      " 3   date         1243 non-null   object\n",
      " 4   hour         1243 non-null   int64 \n",
      " 5   device_make  1243 non-null   object\n",
      " 6   platform_os  1243 non-null   int64 \n",
      " 7   browser      1243 non-null   object\n",
      " 8   aware        1243 non-null   int64 \n",
      "dtypes: int64(4), object(5)\n",
      "memory usage: 87.5+ KB\n"
     ]
    }
   ],
   "source": [
    "cleaned_df.info()"
   ]
  },
  {
   "cell_type": "code",
   "execution_count": 52,
   "id": "15deae26",
   "metadata": {},
   "outputs": [
    {
     "name": "stdout",
     "output_type": "stream",
     "text": [
      "gdrive://1Qwhs22KV5-hdeMZ-1coPd65tJ7SQ3IJd/9c/00ecff555480cd97b707617d639d3f\n"
     ]
    }
   ],
   "source": [
    "# Load data from dvc using the dvc.api.Dataset class\n",
    "path = 'data/AdSmartABdata.csv'\n",
    "repo = 'https://github.com/Group-12-A-B-Hypothesis-Testing/abtest-mlops'\n",
    "version = 'c1dfb93'\n",
    "re_url = dvc.api.get_url(path=path, repo=repo, rev=version)\n",
    "print(re_url)"
   ]
  },
  {
   "cell_type": "code",
   "execution_count": null,
   "id": "f27282e2",
   "metadata": {},
   "outputs": [],
   "source": [
    "data_os = pd.read_csv(re_url, sep=',')"
   ]
  },
  {
   "cell_type": "markdown",
   "id": "f80a04b6",
   "metadata": {},
   "source": [
    "Label Encoding the Data"
   ]
  },
  {
   "cell_type": "code",
   "execution_count": 35,
   "id": "b9a64654",
   "metadata": {},
   "outputs": [],
   "source": [
    "def encode_labels(df):\n",
    "    date_encoder = preprocessing.LabelEncoder()\n",
    "    device_encoder = preprocessing.LabelEncoder()\n",
    "    browser_encoder = preprocessing.LabelEncoder()\n",
    "    experiment_encoder = preprocessing.LabelEncoder()\n",
    "    aware_encoder = preprocessing.LabelEncoder()\n",
    "    \n",
    "    df['date'] = date_encoder.fit_transform(df['date'])\n",
    "    df['device_make'] = device_encoder.fit_transform(df['device_make'])\n",
    "    df['browser'] = browser_encoder.fit_transform(df['browser'])\n",
    "    df['experiment'] = experiment_encoder.fit_transform(df['experiment'])\n",
    "    df['browser'] = aware_encoder.fit_transform(df['browser'])\n",
    "    df['aware'] = aware_encoder.fit_transform(df['aware'])\n",
    "    \n",
    "    return df    "
   ]
  },
  {
   "cell_type": "markdown",
   "id": "9200a0d6",
   "metadata": {},
   "source": [
    "Spliting the data by browser and platform_os column"
   ]
  },
  {
   "cell_type": "code",
   "execution_count": 20,
   "id": "09b9cd45",
   "metadata": {},
   "outputs": [],
   "source": [
    "def feature_data(df):\n",
    "    \n",
    "    browser_feature_df = df[[\"experiment\", \"hour\", \"date\", 'device_make', 'browser', 'aware']] \n",
    "    platform_feature_df = df[[\"experiment\", \"hour\", \"date\", 'device_make', 'platform_os', 'aware']] \n",
    "\n",
    "    return browser_feature_df, platform_feature_df"
   ]
  },
  {
   "cell_type": "code",
   "execution_count": 24,
   "id": "8abfda00",
   "metadata": {},
   "outputs": [],
   "source": [
    "def save_encoded_df(df):\n",
    "    \n",
    "    broweser_df, platfrom_df = feature_data(df)\n",
    "    broweser_df.save_csv(\"../Data/browser_featured_data.csv\")\n",
    "    platfrom_df.save_csv(platfrom_df, \"../data/platform_featured_data.csv\")"
   ]
  },
  {
   "cell_type": "code",
   "execution_count": 36,
   "id": "df151e96",
   "metadata": {},
   "outputs": [],
   "source": [
    "cleaned_data = encode_labels(cleaned_df)\n",
    "cleaned_browser_df, cleaned_platform_df = feature_data(cleaned_data)"
   ]
  },
  {
   "cell_type": "code",
   "execution_count": 37,
   "id": "979c4d33",
   "metadata": {},
   "outputs": [
    {
     "data": {
      "text/html": [
       "<div>\n",
       "<style scoped>\n",
       "    .dataframe tbody tr th:only-of-type {\n",
       "        vertical-align: middle;\n",
       "    }\n",
       "\n",
       "    .dataframe tbody tr th {\n",
       "        vertical-align: top;\n",
       "    }\n",
       "\n",
       "    .dataframe thead th {\n",
       "        text-align: right;\n",
       "    }\n",
       "</style>\n",
       "<table border=\"1\" class=\"dataframe\">\n",
       "  <thead>\n",
       "    <tr style=\"text-align: right;\">\n",
       "      <th></th>\n",
       "      <th>experiment</th>\n",
       "      <th>hour</th>\n",
       "      <th>date</th>\n",
       "      <th>device_make</th>\n",
       "      <th>browser</th>\n",
       "      <th>aware</th>\n",
       "    </tr>\n",
       "  </thead>\n",
       "  <tbody>\n",
       "    <tr>\n",
       "      <th>0</th>\n",
       "      <td>1</td>\n",
       "      <td>2</td>\n",
       "      <td>3</td>\n",
       "      <td>4</td>\n",
       "      <td>2</td>\n",
       "      <td>0</td>\n",
       "    </tr>\n",
       "    <tr>\n",
       "      <th>1</th>\n",
       "      <td>1</td>\n",
       "      <td>16</td>\n",
       "      <td>2</td>\n",
       "      <td>13</td>\n",
       "      <td>1</td>\n",
       "      <td>1</td>\n",
       "    </tr>\n",
       "    <tr>\n",
       "      <th>2</th>\n",
       "      <td>1</td>\n",
       "      <td>8</td>\n",
       "      <td>4</td>\n",
       "      <td>13</td>\n",
       "      <td>1</td>\n",
       "      <td>0</td>\n",
       "    </tr>\n",
       "    <tr>\n",
       "      <th>3</th>\n",
       "      <td>0</td>\n",
       "      <td>4</td>\n",
       "      <td>6</td>\n",
       "      <td>43</td>\n",
       "      <td>4</td>\n",
       "      <td>1</td>\n",
       "    </tr>\n",
       "    <tr>\n",
       "      <th>4</th>\n",
       "      <td>0</td>\n",
       "      <td>15</td>\n",
       "      <td>1</td>\n",
       "      <td>13</td>\n",
       "      <td>1</td>\n",
       "      <td>0</td>\n",
       "    </tr>\n",
       "  </tbody>\n",
       "</table>\n",
       "</div>"
      ],
      "text/plain": [
       "   experiment  hour  date  device_make  browser  aware\n",
       "0           1     2     3            4        2      0\n",
       "1           1    16     2           13        1      1\n",
       "2           1     8     4           13        1      0\n",
       "3           0     4     6           43        4      1\n",
       "4           0    15     1           13        1      0"
      ]
     },
     "execution_count": 37,
     "metadata": {},
     "output_type": "execute_result"
    }
   ],
   "source": [
    "cleaned_browser_df.head()"
   ]
  },
  {
   "cell_type": "code",
   "execution_count": 38,
   "id": "f0c66d02",
   "metadata": {},
   "outputs": [],
   "source": [
    "Y_col = 'aware'\n",
    "X_cols = cleaned_browser_df.loc[:, cleaned_browser_df.columns != Y_col].columns\n",
    "\n",
    "X_train,X_test,y_train,y_test=train_test_split(cleaned_browser_df[X_cols], cleaned_browser_df[Y_col],\\\n",
    "                                                test_size=0.1, random_state=42)"
   ]
  },
  {
   "cell_type": "markdown",
   "id": "aa390f07",
   "metadata": {},
   "source": [
    "### Training Browser Featured Data"
   ]
  },
  {
   "cell_type": "markdown",
   "id": "7a9bbc06",
   "metadata": {},
   "source": [
    "#### Training with Logistic Regression"
   ]
  },
  {
   "cell_type": "code",
   "execution_count": 54,
   "id": "93d50c1e",
   "metadata": {
    "scrolled": true
   },
   "outputs": [
    {
     "name": "stdout",
     "output_type": "stream",
     "text": [
      "step 0: Validation Accuracy of Logistic Regression Classifier is: 0.540\n",
      "step 0: Validation Loss of Logistic Regression Classifier is: 0.678\n",
      "\n",
      "step 1: Validation Accuracy of Logistic Regression Classifier is: 0.513\n",
      "step 1: Validation Loss of Logistic Regression Classifier is: 0.698\n",
      "\n",
      "step 2: Validation Accuracy of Logistic Regression Classifier is: 0.549\n",
      "step 2: Validation Loss of Logistic Regression Classifier is: 0.671\n",
      "\n",
      "step 3: Validation Accuracy of Logistic Regression Classifier is: 0.543\n",
      "step 3: Validation Loss of Logistic Regression Classifier is: 0.676\n",
      "\n",
      "step 4: Validation Accuracy of Logistic Regression Classifier is: 0.547\n",
      "step 4: Validation Loss of Logistic Regression Classifier is: 0.673\n",
      "\n"
     ]
    }
   ],
   "source": [
    "LR = TrainingClassifier(X_train, X_test,  y_train, y_test, \"logistic_regression\")\n",
    "clf2, loss_arr_2, acc_arr_2 = LR.train(5)"
   ]
  },
  {
   "cell_type": "code",
   "execution_count": 55,
   "id": "62a8a7de",
   "metadata": {},
   "outputs": [
    {
     "name": "stdout",
     "output_type": "stream",
     "text": [
      "step 1: Test Accuracy of Logistic Regression Classifier is: 0.520\n",
      "Test Metrics\n",
      "================\n",
      "              precision    recall  f1-score   support\n",
      "\n",
      "           0       0.89      0.52      0.66       111\n",
      "           1       0.12      0.50      0.19        14\n",
      "\n",
      "    accuracy                           0.52       125\n",
      "   macro avg       0.50      0.51      0.42       125\n",
      "weighted avg       0.81      0.52      0.61       125\n",
      "\n"
     ]
    },
    {
     "data": {
      "image/png": "[encoded data removed]",
      "text/plain": [
       "<Figure size 432x288 with 2 Axes>"
      ]
     },
     "metadata": {
      "needs_background": "light"
     },
     "output_type": "display_data"
    }
   ],
   "source": [
    "test_acc2, test_loss2, report2, matrix2  = LR.test()"
   ]
  },
  {
   "cell_type": "code",
   "execution_count": 56,
   "id": "788b52f6",
   "metadata": {},
   "outputs": [
    {
     "data": {
      "image/png": "[encoded data removed]",
      "text/plain": [
       "<Figure size 864x504 with 1 Axes>"
      ]
     },
     "metadata": {
      "needs_background": "light"
     },
     "output_type": "display_data"
    },
    {
     "data": {
      "text/html": [
       "<div>\n",
       "<style scoped>\n",
       "    .dataframe tbody tr th:only-of-type {\n",
       "        vertical-align: middle;\n",
       "    }\n",
       "\n",
       "    .dataframe tbody tr th {\n",
       "        vertical-align: top;\n",
       "    }\n",
       "\n",
       "    .dataframe thead th {\n",
       "        text-align: right;\n",
       "    }\n",
       "</style>\n",
       "<table border=\"1\" class=\"dataframe\">\n",
       "  <thead>\n",
       "    <tr style=\"text-align: right;\">\n",
       "      <th></th>\n",
       "      <th>features</th>\n",
       "      <th>p_values</th>\n",
       "    </tr>\n",
       "  </thead>\n",
       "  <tbody>\n",
       "    <tr>\n",
       "      <th>0</th>\n",
       "      <td>experiment</td>\n",
       "      <td>0.294328</td>\n",
       "    </tr>\n",
       "    <tr>\n",
       "      <th>1</th>\n",
       "      <td>hour</td>\n",
       "      <td>0.006117</td>\n",
       "    </tr>\n",
       "    <tr>\n",
       "      <th>2</th>\n",
       "      <td>date</td>\n",
       "      <td>0.413474</td>\n",
       "    </tr>\n",
       "    <tr>\n",
       "      <th>3</th>\n",
       "      <td>device_make</td>\n",
       "      <td>0.228142</td>\n",
       "    </tr>\n",
       "    <tr>\n",
       "      <th>4</th>\n",
       "      <td>browser</td>\n",
       "      <td>0.404565</td>\n",
       "    </tr>\n",
       "  </tbody>\n",
       "</table>\n",
       "</div>"
      ],
      "text/plain": [
       "      features  p_values\n",
       "0   experiment  0.294328\n",
       "1         hour  0.006117\n",
       "2         date  0.413474\n",
       "3  device_make  0.228142\n",
       "4      browser  0.404565"
      ]
     },
     "execution_count": 56,
     "metadata": {},
     "output_type": "execute_result"
    }
   ],
   "source": [
    "p_values_df = LR.get_p_values()\n",
    "LR.plot_pvalues(p_values_df)\n",
    "p_values_df"
   ]
  },
  {
   "cell_type": "markdown",
   "id": "9cb61309",
   "metadata": {},
   "source": [
    "The P-value for experiment is 0.3. It is not that much significant, since our significance level is 0.05. Hour is the most important predictor for the Logestic Regression Model with p value 0.001, it is then follwed by device_make then experiment. The least predictor for the Logestic Regression Model is date"
   ]
  },
  {
   "cell_type": "code",
   "execution_count": 57,
   "id": "214be902",
   "metadata": {},
   "outputs": [
    {
     "name": "stdout",
     "output_type": "stream",
     "text": [
      "Predicted: [0 1 0 0 1 0 1 0 0 0]\n",
      "Actual: 900     1\n",
      "1003    0\n",
      "671     0\n",
      "620     0\n",
      "926     1\n",
      "997     0\n",
      "745     1\n",
      "938     1\n",
      "451     0\n",
      "439     1\n",
      "Name: aware, dtype: int64\n"
     ]
    }
   ],
   "source": [
    "# Define Logistic Regression Model\n",
    "log = LogisticRegression()\n",
    "# We fit our model with our train data\n",
    "log.fit(X_train, y_train)\n",
    "# Then predict results from X_test data\n",
    "pred_log = log.predict(X_test)\n",
    "\n",
    "# See First 10 Predictions and They Actual Values\n",
    "print(\"Predicted:\", pred_log[0:10])\n",
    "print(\"Actual:\", y_test[0:10])"
   ]
  },
  {
   "cell_type": "code",
   "execution_count": 59,
   "id": "0eed8bd4",
   "metadata": {},
   "outputs": [
    {
     "name": "stdout",
     "output_type": "stream",
     "text": [
      "Feature: 0, Score: 0.09975\n",
      "Feature: 1, Score: 0.02514\n",
      "Feature: 2, Score: -0.00504\n",
      "Feature: 3, Score: 0.00252\n",
      "Feature: 4, Score: -0.04181\n"
     ]
    },
    {
     "data": {
      "image/png": "[encoded data removed]",
      "text/plain": [
       "<Figure size 432x288 with 1 Axes>"
      ]
     },
     "metadata": {
      "needs_background": "light"
     },
     "output_type": "display_data"
    }
   ],
   "source": [
    "# get importance\n",
    "importance = log.coef_[0]\n",
    "# summarize feature importance\n",
    "for i,v in enumerate(importance):\n",
    "\tprint('Feature: %0d, Score: %.5f' % (i,v))\n",
    "# plot feature importance\n",
    "pyplot.bar([x for x in range(len(importance))], importance)\n",
    "pyplot.show()"
   ]
  },
  {
   "cell_type": "code",
   "execution_count": null,
   "id": "1e8afa91",
   "metadata": {},
   "outputs": [],
   "source": []
  }
 ],
 "metadata": {
  "kernelspec": {
   "display_name": "Python 3 (ipykernel)",
   "language": "python",
   "name": "python3"
  },
  "language_info": {
   "codemirror_mode": {
    "name": "ipython",
    "version": 3
   },
   "file_extension": ".py",
   "mimetype": "text/x-python",
   "name": "python",
   "nbconvert_exporter": "python",
   "pygments_lexer": "ipython3",
   "version": "3.9.12"
  }
 },
 "nbformat": 4,
 "nbformat_minor": 5
}
