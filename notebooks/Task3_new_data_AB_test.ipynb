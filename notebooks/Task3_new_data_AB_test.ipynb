{
 "cells": [
  {
   "cell_type": "code",
   "execution_count": 1,
   "metadata": {},
   "outputs": [],
   "source": [
    "#Importing libraries \n",
    "%matplotlib inline\n",
    "import statsmodels.api as sm\n",
    "import numpy as np \n",
    "import scipy\n",
    "import plotly.express as px\n",
    "import matplotlib.pyplot as plt\n",
    "import pandas as pd\n",
    "import seaborn as sns\n",
    "from sklearn.impute import SimpleImputer\n",
    "import warnings\n",
    "warnings.filterwarnings(action=\"ignore\")\n",
    "import seaborn as sns\n",
    "\n"
   ]
  },
  {
   "cell_type": "code",
   "execution_count": 3,
   "metadata": {},
   "outputs": [],
   "source": [
    "import sys, os\n",
    "sys.path.append(os.path.abspath(os.path.join('../scripts')))\n",
    "\n",
    "from data_preprocess import Data_preprocess\n",
    "from data_description import Df_description\n",
    "from plots import Plots\n"
   ]
  },
  {
   "cell_type": "code",
   "execution_count": 4,
   "metadata": {},
   "outputs": [],
   "source": [
    "df = pd.read_csv('../data/ABtwoCampaignEngView.csv')"
   ]
  },
  {
   "cell_type": "code",
   "execution_count": null,
   "metadata": {},
   "outputs": [],
   "source": []
  },
  {
   "cell_type": "code",
   "execution_count": null,
   "metadata": {},
   "outputs": [
    {
     "data": {
      "text/plain": [
       "(912712, 10)"
      ]
     },
     "execution_count": 4,
     "metadata": {},
     "output_type": "execute_result"
    }
   ],
   "source": [
    "df.shape"
   ]
  },
  {
   "cell_type": "code",
   "execution_count": 5,
   "metadata": {},
   "outputs": [
    {
     "data": {
      "text/html": [
       "<div>\n",
       "<style scoped>\n",
       "    .dataframe tbody tr th:only-of-type {\n",
       "        vertical-align: middle;\n",
       "    }\n",
       "\n",
       "    .dataframe tbody tr th {\n",
       "        vertical-align: top;\n",
       "    }\n",
       "\n",
       "    .dataframe thead th {\n",
       "        text-align: right;\n",
       "    }\n",
       "</style>\n",
       "<table border=\"1\" class=\"dataframe\">\n",
       "  <thead>\n",
       "    <tr style=\"text-align: right;\">\n",
       "      <th></th>\n",
       "      <th>Unnamed: 0</th>\n",
       "      <th>auction_id</th>\n",
       "      <th>experiment</th>\n",
       "      <th>date</th>\n",
       "      <th>hour</th>\n",
       "      <th>device_make</th>\n",
       "      <th>platform_os</th>\n",
       "      <th>browser</th>\n",
       "      <th>yes</th>\n",
       "      <th>no</th>\n",
       "    </tr>\n",
       "  </thead>\n",
       "  <tbody>\n",
       "    <tr>\n",
       "      <th>0</th>\n",
       "      <td>1333639</td>\n",
       "      <td>8ec30aff-2332-4a1f-9330-b93abb32bc94</td>\n",
       "      <td>control</td>\n",
       "      <td>&lt;built-in method date of Timestamp object at 0...</td>\n",
       "      <td>15</td>\n",
       "      <td>LG</td>\n",
       "      <td>156</td>\n",
       "      <td>6</td>\n",
       "      <td>0.0</td>\n",
       "      <td>0.0</td>\n",
       "    </tr>\n",
       "    <tr>\n",
       "      <th>1</th>\n",
       "      <td>730667</td>\n",
       "      <td>4e1bcb56-357c-4186-9d39-3be82e3519f1</td>\n",
       "      <td>control</td>\n",
       "      <td>&lt;built-in method date of Timestamp object at 0...</td>\n",
       "      <td>7</td>\n",
       "      <td>Samsung</td>\n",
       "      <td>162</td>\n",
       "      <td>6</td>\n",
       "      <td>0.0</td>\n",
       "      <td>0.0</td>\n",
       "    </tr>\n",
       "    <tr>\n",
       "      <th>2</th>\n",
       "      <td>2069787</td>\n",
       "      <td>dd6ec327-fcfd-4a80-89c0-dccd3dd80f09</td>\n",
       "      <td>control</td>\n",
       "      <td>&lt;built-in method date of Timestamp object at 0...</td>\n",
       "      <td>14</td>\n",
       "      <td>Apple</td>\n",
       "      <td>178</td>\n",
       "      <td>15</td>\n",
       "      <td>0.0</td>\n",
       "      <td>0.0</td>\n",
       "    </tr>\n",
       "    <tr>\n",
       "      <th>3</th>\n",
       "      <td>1692366</td>\n",
       "      <td>b5222d0f-39e3-4c02-a12f-1ef09d4f861f</td>\n",
       "      <td>control</td>\n",
       "      <td>&lt;built-in method date of Timestamp object at 0...</td>\n",
       "      <td>22</td>\n",
       "      <td>Apple</td>\n",
       "      <td>167</td>\n",
       "      <td>15</td>\n",
       "      <td>0.0</td>\n",
       "      <td>0.0</td>\n",
       "    </tr>\n",
       "    <tr>\n",
       "      <th>4</th>\n",
       "      <td>1384123</td>\n",
       "      <td>9428377d-1504-4407-87c2-ce518f67eb87</td>\n",
       "      <td>control</td>\n",
       "      <td>&lt;built-in method date of Timestamp object at 0...</td>\n",
       "      <td>21</td>\n",
       "      <td>Samsung</td>\n",
       "      <td>155</td>\n",
       "      <td>15</td>\n",
       "      <td>0.0</td>\n",
       "      <td>0.0</td>\n",
       "    </tr>\n",
       "  </tbody>\n",
       "</table>\n",
       "</div>"
      ],
      "text/plain": [
       "   Unnamed: 0                            auction_id experiment  \\\n",
       "0     1333639  8ec30aff-2332-4a1f-9330-b93abb32bc94    control   \n",
       "1      730667  4e1bcb56-357c-4186-9d39-3be82e3519f1    control   \n",
       "2     2069787  dd6ec327-fcfd-4a80-89c0-dccd3dd80f09    control   \n",
       "3     1692366  b5222d0f-39e3-4c02-a12f-1ef09d4f861f    control   \n",
       "4     1384123  9428377d-1504-4407-87c2-ce518f67eb87    control   \n",
       "\n",
       "                                                date  hour device_make  \\\n",
       "0  <built-in method date of Timestamp object at 0...    15          LG   \n",
       "1  <built-in method date of Timestamp object at 0...     7     Samsung   \n",
       "2  <built-in method date of Timestamp object at 0...    14       Apple   \n",
       "3  <built-in method date of Timestamp object at 0...    22       Apple   \n",
       "4  <built-in method date of Timestamp object at 0...    21     Samsung   \n",
       "\n",
       "   platform_os  browser  yes   no  \n",
       "0          156        6  0.0  0.0  \n",
       "1          162        6  0.0  0.0  \n",
       "2          178       15  0.0  0.0  \n",
       "3          167       15  0.0  0.0  \n",
       "4          155       15  0.0  0.0  "
      ]
     },
     "execution_count": 5,
     "metadata": {},
     "output_type": "execute_result"
    }
   ],
   "source": [
    "df.head()"
   ]
  },
  {
   "cell_type": "code",
   "execution_count": 6,
   "metadata": {},
   "outputs": [
    {
     "data": {
      "text/html": [
       "<div>\n",
       "<style scoped>\n",
       "    .dataframe tbody tr th:only-of-type {\n",
       "        vertical-align: middle;\n",
       "    }\n",
       "\n",
       "    .dataframe tbody tr th {\n",
       "        vertical-align: top;\n",
       "    }\n",
       "\n",
       "    .dataframe thead th {\n",
       "        text-align: right;\n",
       "    }\n",
       "</style>\n",
       "<table border=\"1\" class=\"dataframe\">\n",
       "  <thead>\n",
       "    <tr style=\"text-align: right;\">\n",
       "      <th></th>\n",
       "      <th>auction_id</th>\n",
       "      <th>experiment</th>\n",
       "      <th>date</th>\n",
       "      <th>hour</th>\n",
       "      <th>device_make</th>\n",
       "      <th>platform_os</th>\n",
       "      <th>browser</th>\n",
       "      <th>yes</th>\n",
       "      <th>no</th>\n",
       "    </tr>\n",
       "  </thead>\n",
       "  <tbody>\n",
       "    <tr>\n",
       "      <th>0</th>\n",
       "      <td>8ec30aff-2332-4a1f-9330-b93abb32bc94</td>\n",
       "      <td>control</td>\n",
       "      <td>&lt;built-in method date of Timestamp object at 0...</td>\n",
       "      <td>15</td>\n",
       "      <td>LG</td>\n",
       "      <td>156</td>\n",
       "      <td>6</td>\n",
       "      <td>0.0</td>\n",
       "      <td>0.0</td>\n",
       "    </tr>\n",
       "    <tr>\n",
       "      <th>1</th>\n",
       "      <td>4e1bcb56-357c-4186-9d39-3be82e3519f1</td>\n",
       "      <td>control</td>\n",
       "      <td>&lt;built-in method date of Timestamp object at 0...</td>\n",
       "      <td>7</td>\n",
       "      <td>Samsung</td>\n",
       "      <td>162</td>\n",
       "      <td>6</td>\n",
       "      <td>0.0</td>\n",
       "      <td>0.0</td>\n",
       "    </tr>\n",
       "    <tr>\n",
       "      <th>2</th>\n",
       "      <td>dd6ec327-fcfd-4a80-89c0-dccd3dd80f09</td>\n",
       "      <td>control</td>\n",
       "      <td>&lt;built-in method date of Timestamp object at 0...</td>\n",
       "      <td>14</td>\n",
       "      <td>Apple</td>\n",
       "      <td>178</td>\n",
       "      <td>15</td>\n",
       "      <td>0.0</td>\n",
       "      <td>0.0</td>\n",
       "    </tr>\n",
       "    <tr>\n",
       "      <th>3</th>\n",
       "      <td>b5222d0f-39e3-4c02-a12f-1ef09d4f861f</td>\n",
       "      <td>control</td>\n",
       "      <td>&lt;built-in method date of Timestamp object at 0...</td>\n",
       "      <td>22</td>\n",
       "      <td>Apple</td>\n",
       "      <td>167</td>\n",
       "      <td>15</td>\n",
       "      <td>0.0</td>\n",
       "      <td>0.0</td>\n",
       "    </tr>\n",
       "    <tr>\n",
       "      <th>4</th>\n",
       "      <td>9428377d-1504-4407-87c2-ce518f67eb87</td>\n",
       "      <td>control</td>\n",
       "      <td>&lt;built-in method date of Timestamp object at 0...</td>\n",
       "      <td>21</td>\n",
       "      <td>Samsung</td>\n",
       "      <td>155</td>\n",
       "      <td>15</td>\n",
       "      <td>0.0</td>\n",
       "      <td>0.0</td>\n",
       "    </tr>\n",
       "  </tbody>\n",
       "</table>\n",
       "</div>"
      ],
      "text/plain": [
       "                             auction_id experiment  \\\n",
       "0  8ec30aff-2332-4a1f-9330-b93abb32bc94    control   \n",
       "1  4e1bcb56-357c-4186-9d39-3be82e3519f1    control   \n",
       "2  dd6ec327-fcfd-4a80-89c0-dccd3dd80f09    control   \n",
       "3  b5222d0f-39e3-4c02-a12f-1ef09d4f861f    control   \n",
       "4  9428377d-1504-4407-87c2-ce518f67eb87    control   \n",
       "\n",
       "                                                date  hour device_make  \\\n",
       "0  <built-in method date of Timestamp object at 0...    15          LG   \n",
       "1  <built-in method date of Timestamp object at 0...     7     Samsung   \n",
       "2  <built-in method date of Timestamp object at 0...    14       Apple   \n",
       "3  <built-in method date of Timestamp object at 0...    22       Apple   \n",
       "4  <built-in method date of Timestamp object at 0...    21     Samsung   \n",
       "\n",
       "   platform_os  browser  yes   no  \n",
       "0          156        6  0.0  0.0  \n",
       "1          162        6  0.0  0.0  \n",
       "2          178       15  0.0  0.0  \n",
       "3          167       15  0.0  0.0  \n",
       "4          155       15  0.0  0.0  "
      ]
     },
     "execution_count": 6,
     "metadata": {},
     "output_type": "execute_result"
    }
   ],
   "source": [
    "df.drop('Unnamed: 0', inplace=True, axis=1)\n",
    "df.head()"
   ]
  },
  {
   "cell_type": "markdown",
   "metadata": {},
   "source": [
    "# Data Cleaning"
   ]
  },
  {
   "cell_type": "code",
   "execution_count": 7,
   "metadata": {},
   "outputs": [],
   "source": [
    "data_preprocess = Data_preprocess(df)\n",
    "df_info = Df_description(df)"
   ]
  },
  {
   "cell_type": "code",
   "execution_count": 8,
   "metadata": {},
   "outputs": [
    {
     "name": "stdout",
     "output_type": "stream",
     "text": [
      "<class 'pandas.core.frame.DataFrame'>\n",
      "RangeIndex: 912712 entries, 0 to 912711\n",
      "Data columns (total 9 columns):\n",
      " #   Column       Non-Null Count   Dtype  \n",
      "---  ------       --------------   -----  \n",
      " 0   auction_id   912712 non-null  object \n",
      " 1   experiment   912712 non-null  object \n",
      " 2   date         912712 non-null  object \n",
      " 3   hour         912712 non-null  int64  \n",
      " 4   device_make  912712 non-null  object \n",
      " 5   platform_os  912712 non-null  int64  \n",
      " 6   browser      912712 non-null  int64  \n",
      " 7   yes          912712 non-null  float64\n",
      " 8   no           912712 non-null  float64\n",
      "dtypes: float64(2), int64(3), object(4)\n",
      "memory usage: 62.7+ MB\n"
     ]
    }
   ],
   "source": [
    "df.info()"
   ]
  },
  {
   "cell_type": "code",
   "execution_count": 9,
   "metadata": {},
   "outputs": [
    {
     "data": {
      "text/html": [
       "<div>\n",
       "<style scoped>\n",
       "    .dataframe tbody tr th:only-of-type {\n",
       "        vertical-align: middle;\n",
       "    }\n",
       "\n",
       "    .dataframe tbody tr th {\n",
       "        vertical-align: top;\n",
       "    }\n",
       "\n",
       "    .dataframe thead th {\n",
       "        text-align: right;\n",
       "    }\n",
       "</style>\n",
       "<table border=\"1\" class=\"dataframe\">\n",
       "  <thead>\n",
       "    <tr style=\"text-align: right;\">\n",
       "      <th></th>\n",
       "      <th>total_missing_values</th>\n",
       "      <th>missing_percentage</th>\n",
       "    </tr>\n",
       "  </thead>\n",
       "  <tbody>\n",
       "    <tr>\n",
       "      <th>auction_id</th>\n",
       "      <td>0</td>\n",
       "      <td>0.0 %</td>\n",
       "    </tr>\n",
       "    <tr>\n",
       "      <th>experiment</th>\n",
       "      <td>0</td>\n",
       "      <td>0.0 %</td>\n",
       "    </tr>\n",
       "    <tr>\n",
       "      <th>date</th>\n",
       "      <td>0</td>\n",
       "      <td>0.0 %</td>\n",
       "    </tr>\n",
       "    <tr>\n",
       "      <th>hour</th>\n",
       "      <td>0</td>\n",
       "      <td>0.0 %</td>\n",
       "    </tr>\n",
       "    <tr>\n",
       "      <th>device_make</th>\n",
       "      <td>0</td>\n",
       "      <td>0.0 %</td>\n",
       "    </tr>\n",
       "    <tr>\n",
       "      <th>platform_os</th>\n",
       "      <td>0</td>\n",
       "      <td>0.0 %</td>\n",
       "    </tr>\n",
       "    <tr>\n",
       "      <th>browser</th>\n",
       "      <td>0</td>\n",
       "      <td>0.0 %</td>\n",
       "    </tr>\n",
       "    <tr>\n",
       "      <th>yes</th>\n",
       "      <td>0</td>\n",
       "      <td>0.0 %</td>\n",
       "    </tr>\n",
       "    <tr>\n",
       "      <th>no</th>\n",
       "      <td>0</td>\n",
       "      <td>0.0 %</td>\n",
       "    </tr>\n",
       "  </tbody>\n",
       "</table>\n",
       "</div>"
      ],
      "text/plain": [
       "             total_missing_values missing_percentage\n",
       "auction_id                      0              0.0 %\n",
       "experiment                      0              0.0 %\n",
       "date                            0              0.0 %\n",
       "hour                            0              0.0 %\n",
       "device_make                     0              0.0 %\n",
       "platform_os                     0              0.0 %\n",
       "browser                         0              0.0 %\n",
       "yes                             0              0.0 %\n",
       "no                              0              0.0 %"
      ]
     },
     "execution_count": 9,
     "metadata": {},
     "output_type": "execute_result"
    }
   ],
   "source": [
    "# getting missing value column with percentage\n",
    "df_info.find_column_based_missing_percentage()"
   ]
  },
  {
   "cell_type": "code",
   "execution_count": 10,
   "metadata": {},
   "outputs": [
    {
     "data": {
      "text/html": [
       "<div>\n",
       "<style scoped>\n",
       "    .dataframe tbody tr th:only-of-type {\n",
       "        vertical-align: middle;\n",
       "    }\n",
       "\n",
       "    .dataframe tbody tr th {\n",
       "        vertical-align: top;\n",
       "    }\n",
       "\n",
       "    .dataframe thead th {\n",
       "        text-align: right;\n",
       "    }\n",
       "</style>\n",
       "<table border=\"1\" class=\"dataframe\">\n",
       "  <thead>\n",
       "    <tr style=\"text-align: right;\">\n",
       "      <th></th>\n",
       "      <th>auction_id</th>\n",
       "      <th>experiment</th>\n",
       "      <th>date</th>\n",
       "      <th>hour</th>\n",
       "      <th>device_make</th>\n",
       "      <th>platform_os</th>\n",
       "      <th>browser</th>\n",
       "      <th>yes</th>\n",
       "      <th>no</th>\n",
       "    </tr>\n",
       "  </thead>\n",
       "  <tbody>\n",
       "  </tbody>\n",
       "</table>\n",
       "</div>"
      ],
      "text/plain": [
       "Empty DataFrame\n",
       "Columns: [auction_id, experiment, date, hour, device_make, platform_os, browser, yes, no]\n",
       "Index: []"
      ]
     },
     "execution_count": 10,
     "metadata": {},
     "output_type": "execute_result"
    }
   ],
   "source": [
    "# finding duplicate rows\n",
    "df_info.find_duplicates()"
   ]
  },
  {
   "cell_type": "code",
   "execution_count": 11,
   "metadata": {},
   "outputs": [
    {
     "data": {
      "text/html": [
       "<div>\n",
       "<style scoped>\n",
       "    .dataframe tbody tr th:only-of-type {\n",
       "        vertical-align: middle;\n",
       "    }\n",
       "\n",
       "    .dataframe tbody tr th {\n",
       "        vertical-align: top;\n",
       "    }\n",
       "\n",
       "    .dataframe thead th {\n",
       "        text-align: right;\n",
       "    }\n",
       "</style>\n",
       "<table border=\"1\" class=\"dataframe\">\n",
       "  <thead>\n",
       "    <tr style=\"text-align: right;\">\n",
       "      <th></th>\n",
       "      <th>Unique Value Count</th>\n",
       "    </tr>\n",
       "  </thead>\n",
       "  <tbody>\n",
       "    <tr>\n",
       "      <th>experiment</th>\n",
       "      <td>2</td>\n",
       "    </tr>\n",
       "    <tr>\n",
       "      <th>yes</th>\n",
       "      <td>2</td>\n",
       "    </tr>\n",
       "    <tr>\n",
       "      <th>no</th>\n",
       "      <td>2</td>\n",
       "    </tr>\n",
       "    <tr>\n",
       "      <th>browser</th>\n",
       "      <td>9</td>\n",
       "    </tr>\n",
       "    <tr>\n",
       "      <th>hour</th>\n",
       "      <td>24</td>\n",
       "    </tr>\n",
       "    <tr>\n",
       "      <th>platform_os</th>\n",
       "      <td>68</td>\n",
       "    </tr>\n",
       "    <tr>\n",
       "      <th>device_make</th>\n",
       "      <td>255</td>\n",
       "    </tr>\n",
       "    <tr>\n",
       "      <th>auction_id</th>\n",
       "      <td>892951</td>\n",
       "    </tr>\n",
       "    <tr>\n",
       "      <th>date</th>\n",
       "      <td>912712</td>\n",
       "    </tr>\n",
       "  </tbody>\n",
       "</table>\n",
       "</div>"
      ],
      "text/plain": [
       "             Unique Value Count\n",
       "experiment                    2\n",
       "yes                           2\n",
       "no                            2\n",
       "browser                       9\n",
       "hour                         24\n",
       "platform_os                  68\n",
       "device_make                 255\n",
       "auction_id               892951\n",
       "date                     912712"
      ]
     },
     "execution_count": 11,
     "metadata": {},
     "output_type": "execute_result"
    }
   ],
   "source": [
    "# find unique value counts on columns\n",
    "df_info.find_dataframe_columns_unique_value_count()"
   ]
  },
  {
   "cell_type": "markdown",
   "metadata": {},
   "source": [
    "There are only 892951 than the data's data point 912712.\n",
    "* this means some participants had responded to the add multiple times.\n"
   ]
  },
  {
   "cell_type": "code",
   "execution_count": 12,
   "metadata": {},
   "outputs": [
    {
     "data": {
      "text/html": [
       "<div>\n",
       "<style scoped>\n",
       "    .dataframe tbody tr th:only-of-type {\n",
       "        vertical-align: middle;\n",
       "    }\n",
       "\n",
       "    .dataframe tbody tr th {\n",
       "        vertical-align: top;\n",
       "    }\n",
       "\n",
       "    .dataframe thead th {\n",
       "        text-align: right;\n",
       "    }\n",
       "</style>\n",
       "<table border=\"1\" class=\"dataframe\">\n",
       "  <thead>\n",
       "    <tr style=\"text-align: right;\">\n",
       "      <th></th>\n",
       "      <th>hour</th>\n",
       "      <th>platform_os</th>\n",
       "      <th>browser</th>\n",
       "      <th>yes</th>\n",
       "      <th>no</th>\n",
       "    </tr>\n",
       "  </thead>\n",
       "  <tbody>\n",
       "    <tr>\n",
       "      <th>hour</th>\n",
       "      <td>1.000000</td>\n",
       "      <td>-0.010857</td>\n",
       "      <td>0.010845</td>\n",
       "      <td>-0.030519</td>\n",
       "      <td>0.005676</td>\n",
       "    </tr>\n",
       "    <tr>\n",
       "      <th>platform_os</th>\n",
       "      <td>-0.010857</td>\n",
       "      <td>1.000000</td>\n",
       "      <td>-0.030597</td>\n",
       "      <td>-0.124713</td>\n",
       "      <td>-0.014569</td>\n",
       "    </tr>\n",
       "    <tr>\n",
       "      <th>browser</th>\n",
       "      <td>0.010845</td>\n",
       "      <td>-0.030597</td>\n",
       "      <td>1.000000</td>\n",
       "      <td>-0.039816</td>\n",
       "      <td>0.026515</td>\n",
       "    </tr>\n",
       "    <tr>\n",
       "      <th>yes</th>\n",
       "      <td>-0.030519</td>\n",
       "      <td>-0.124713</td>\n",
       "      <td>-0.039816</td>\n",
       "      <td>1.000000</td>\n",
       "      <td>-0.047435</td>\n",
       "    </tr>\n",
       "    <tr>\n",
       "      <th>no</th>\n",
       "      <td>0.005676</td>\n",
       "      <td>-0.014569</td>\n",
       "      <td>0.026515</td>\n",
       "      <td>-0.047435</td>\n",
       "      <td>1.000000</td>\n",
       "    </tr>\n",
       "  </tbody>\n",
       "</table>\n",
       "</div>"
      ],
      "text/plain": [
       "                 hour  platform_os   browser       yes        no\n",
       "hour         1.000000    -0.010857  0.010845 -0.030519  0.005676\n",
       "platform_os -0.010857     1.000000 -0.030597 -0.124713 -0.014569\n",
       "browser      0.010845    -0.030597  1.000000 -0.039816  0.026515\n",
       "yes         -0.030519    -0.124713 -0.039816  1.000000 -0.047435\n",
       "no           0.005676    -0.014569  0.026515 -0.047435  1.000000"
      ]
     },
     "execution_count": 12,
     "metadata": {},
     "output_type": "execute_result"
    }
   ],
   "source": [
    "# correlation among columns\n",
    "df_info.find_matrix_correlation()"
   ]
  },
  {
   "cell_type": "markdown",
   "metadata": {},
   "source": [
    "# EDA"
   ]
  },
  {
   "cell_type": "code",
   "execution_count": 13,
   "metadata": {},
   "outputs": [
    {
     "data": {
      "text/html": [
       "<div>\n",
       "<style scoped>\n",
       "    .dataframe tbody tr th:only-of-type {\n",
       "        vertical-align: middle;\n",
       "    }\n",
       "\n",
       "    .dataframe tbody tr th {\n",
       "        vertical-align: top;\n",
       "    }\n",
       "\n",
       "    .dataframe thead th {\n",
       "        text-align: right;\n",
       "    }\n",
       "</style>\n",
       "<table border=\"1\" class=\"dataframe\">\n",
       "  <thead>\n",
       "    <tr style=\"text-align: right;\">\n",
       "      <th></th>\n",
       "      <th>auction_id</th>\n",
       "      <th>experiment</th>\n",
       "      <th>date</th>\n",
       "      <th>hour</th>\n",
       "      <th>device_make</th>\n",
       "      <th>platform_os</th>\n",
       "      <th>browser</th>\n",
       "      <th>yes</th>\n",
       "      <th>no</th>\n",
       "    </tr>\n",
       "  </thead>\n",
       "  <tbody>\n",
       "    <tr>\n",
       "      <th>0</th>\n",
       "      <td>8ec30aff-2332-4a1f-9330-b93abb32bc94</td>\n",
       "      <td>control</td>\n",
       "      <td>&lt;built-in method date of Timestamp object at 0...</td>\n",
       "      <td>15</td>\n",
       "      <td>LG</td>\n",
       "      <td>156</td>\n",
       "      <td>6</td>\n",
       "      <td>0.0</td>\n",
       "      <td>0.0</td>\n",
       "    </tr>\n",
       "    <tr>\n",
       "      <th>1</th>\n",
       "      <td>4e1bcb56-357c-4186-9d39-3be82e3519f1</td>\n",
       "      <td>control</td>\n",
       "      <td>&lt;built-in method date of Timestamp object at 0...</td>\n",
       "      <td>7</td>\n",
       "      <td>Samsung</td>\n",
       "      <td>162</td>\n",
       "      <td>6</td>\n",
       "      <td>0.0</td>\n",
       "      <td>0.0</td>\n",
       "    </tr>\n",
       "    <tr>\n",
       "      <th>2</th>\n",
       "      <td>dd6ec327-fcfd-4a80-89c0-dccd3dd80f09</td>\n",
       "      <td>control</td>\n",
       "      <td>&lt;built-in method date of Timestamp object at 0...</td>\n",
       "      <td>14</td>\n",
       "      <td>Apple</td>\n",
       "      <td>178</td>\n",
       "      <td>15</td>\n",
       "      <td>0.0</td>\n",
       "      <td>0.0</td>\n",
       "    </tr>\n",
       "    <tr>\n",
       "      <th>3</th>\n",
       "      <td>b5222d0f-39e3-4c02-a12f-1ef09d4f861f</td>\n",
       "      <td>control</td>\n",
       "      <td>&lt;built-in method date of Timestamp object at 0...</td>\n",
       "      <td>22</td>\n",
       "      <td>Apple</td>\n",
       "      <td>167</td>\n",
       "      <td>15</td>\n",
       "      <td>0.0</td>\n",
       "      <td>0.0</td>\n",
       "    </tr>\n",
       "    <tr>\n",
       "      <th>4</th>\n",
       "      <td>9428377d-1504-4407-87c2-ce518f67eb87</td>\n",
       "      <td>control</td>\n",
       "      <td>&lt;built-in method date of Timestamp object at 0...</td>\n",
       "      <td>21</td>\n",
       "      <td>Samsung</td>\n",
       "      <td>155</td>\n",
       "      <td>15</td>\n",
       "      <td>0.0</td>\n",
       "      <td>0.0</td>\n",
       "    </tr>\n",
       "  </tbody>\n",
       "</table>\n",
       "</div>"
      ],
      "text/plain": [
       "                             auction_id experiment  \\\n",
       "0  8ec30aff-2332-4a1f-9330-b93abb32bc94    control   \n",
       "1  4e1bcb56-357c-4186-9d39-3be82e3519f1    control   \n",
       "2  dd6ec327-fcfd-4a80-89c0-dccd3dd80f09    control   \n",
       "3  b5222d0f-39e3-4c02-a12f-1ef09d4f861f    control   \n",
       "4  9428377d-1504-4407-87c2-ce518f67eb87    control   \n",
       "\n",
       "                                                date  hour device_make  \\\n",
       "0  <built-in method date of Timestamp object at 0...    15          LG   \n",
       "1  <built-in method date of Timestamp object at 0...     7     Samsung   \n",
       "2  <built-in method date of Timestamp object at 0...    14       Apple   \n",
       "3  <built-in method date of Timestamp object at 0...    22       Apple   \n",
       "4  <built-in method date of Timestamp object at 0...    21     Samsung   \n",
       "\n",
       "   platform_os  browser  yes   no  \n",
       "0          156        6  0.0  0.0  \n",
       "1          162        6  0.0  0.0  \n",
       "2          178       15  0.0  0.0  \n",
       "3          167       15  0.0  0.0  \n",
       "4          155       15  0.0  0.0  "
      ]
     },
     "execution_count": 13,
     "metadata": {},
     "output_type": "execute_result"
    }
   ],
   "source": [
    "df.head()"
   ]
  },
  {
   "cell_type": "code",
   "execution_count": 15,
   "metadata": {},
   "outputs": [],
   "source": [
    "df_columns=  df.columns.tolist()"
   ]
  },
  {
   "cell_type": "code",
   "execution_count": 18,
   "metadata": {},
   "outputs": [
    {
     "data": {
      "text/plain": [
       "Index(['hour', 'platform_os', 'browser', 'yes', 'no'], dtype='object')"
      ]
     },
     "execution_count": 18,
     "metadata": {},
     "output_type": "execute_result"
    }
   ],
   "source": [
    "number_of_columns =df._get_numeric_data().columns\n",
    "number_of_columns"
   ]
  },
  {
   "cell_type": "code",
   "execution_count": 20,
   "metadata": {},
   "outputs": [
    {
     "data": {
      "text/plain": [
       "['experiment', 'device_make', 'auction_id', 'date']"
      ]
     },
     "execution_count": 20,
     "metadata": {},
     "output_type": "execute_result"
    }
   ],
   "source": [
    "# catagorical values\n",
    "list(set(df_columns) - set(number_of_columns))"
   ]
  },
  {
   "cell_type": "code",
   "execution_count": 21,
   "metadata": {},
   "outputs": [],
   "source": [
    "df['yes'] = df['yes'].astype(int)\n",
    "df['no'] = df['no'].astype(int)"
   ]
  },
  {
   "cell_type": "code",
   "execution_count": 22,
   "metadata": {},
   "outputs": [],
   "source": [
    "# copying dataframe\n",
    "response = df.copy(deep=True)"
   ]
  },
  {
   "cell_type": "code",
   "execution_count": 23,
   "metadata": {},
   "outputs": [
    {
     "data": {
      "text/html": [
       "<div>\n",
       "<style scoped>\n",
       "    .dataframe tbody tr th:only-of-type {\n",
       "        vertical-align: middle;\n",
       "    }\n",
       "\n",
       "    .dataframe tbody tr th {\n",
       "        vertical-align: top;\n",
       "    }\n",
       "\n",
       "    .dataframe thead th {\n",
       "        text-align: right;\n",
       "    }\n",
       "</style>\n",
       "<table border=\"1\" class=\"dataframe\">\n",
       "  <thead>\n",
       "    <tr style=\"text-align: right;\">\n",
       "      <th></th>\n",
       "      <th>auction_id</th>\n",
       "      <th>experiment</th>\n",
       "      <th>date</th>\n",
       "      <th>hour</th>\n",
       "      <th>device_make</th>\n",
       "      <th>platform_os</th>\n",
       "      <th>browser</th>\n",
       "      <th>yes</th>\n",
       "      <th>no</th>\n",
       "    </tr>\n",
       "  </thead>\n",
       "  <tbody>\n",
       "    <tr>\n",
       "      <th>80</th>\n",
       "      <td>eb941471-f485-4516-b4d3-648e7838d53a</td>\n",
       "      <td>control</td>\n",
       "      <td>&lt;built-in method date of Timestamp object at 0...</td>\n",
       "      <td>15</td>\n",
       "      <td>Apple</td>\n",
       "      <td>101</td>\n",
       "      <td>15</td>\n",
       "      <td>1</td>\n",
       "      <td>0</td>\n",
       "    </tr>\n",
       "    <tr>\n",
       "      <th>84</th>\n",
       "      <td>622af8e2-7bcf-4681-a921-442e1f8378f1</td>\n",
       "      <td>control</td>\n",
       "      <td>&lt;built-in method date of Timestamp object at 0...</td>\n",
       "      <td>6</td>\n",
       "      <td>Apple</td>\n",
       "      <td>101</td>\n",
       "      <td>5</td>\n",
       "      <td>1</td>\n",
       "      <td>0</td>\n",
       "    </tr>\n",
       "    <tr>\n",
       "      <th>103</th>\n",
       "      <td>56a03982-6278-4083-9554-3a069dbc22c8</td>\n",
       "      <td>control</td>\n",
       "      <td>&lt;built-in method date of Timestamp object at 0...</td>\n",
       "      <td>20</td>\n",
       "      <td>Samsung</td>\n",
       "      <td>162</td>\n",
       "      <td>6</td>\n",
       "      <td>1</td>\n",
       "      <td>0</td>\n",
       "    </tr>\n",
       "    <tr>\n",
       "      <th>209</th>\n",
       "      <td>2711e2f3-a624-4243-800e-693a888bc394</td>\n",
       "      <td>control</td>\n",
       "      <td>&lt;built-in method date of Timestamp object at 0...</td>\n",
       "      <td>3</td>\n",
       "      <td>Samsung</td>\n",
       "      <td>162</td>\n",
       "      <td>6</td>\n",
       "      <td>1</td>\n",
       "      <td>0</td>\n",
       "    </tr>\n",
       "    <tr>\n",
       "      <th>255</th>\n",
       "      <td>822e43cb-47a4-4101-90bb-02e7e1c2f576</td>\n",
       "      <td>control</td>\n",
       "      <td>&lt;built-in method date of Timestamp object at 0...</td>\n",
       "      <td>15</td>\n",
       "      <td>Apple</td>\n",
       "      <td>101</td>\n",
       "      <td>7</td>\n",
       "      <td>1</td>\n",
       "      <td>0</td>\n",
       "    </tr>\n",
       "  </tbody>\n",
       "</table>\n",
       "</div>"
      ],
      "text/plain": [
       "                               auction_id experiment  \\\n",
       "80   eb941471-f485-4516-b4d3-648e7838d53a    control   \n",
       "84   622af8e2-7bcf-4681-a921-442e1f8378f1    control   \n",
       "103  56a03982-6278-4083-9554-3a069dbc22c8    control   \n",
       "209  2711e2f3-a624-4243-800e-693a888bc394    control   \n",
       "255  822e43cb-47a4-4101-90bb-02e7e1c2f576    control   \n",
       "\n",
       "                                                  date  hour device_make  \\\n",
       "80   <built-in method date of Timestamp object at 0...    15       Apple   \n",
       "84   <built-in method date of Timestamp object at 0...     6       Apple   \n",
       "103  <built-in method date of Timestamp object at 0...    20     Samsung   \n",
       "209  <built-in method date of Timestamp object at 0...     3     Samsung   \n",
       "255  <built-in method date of Timestamp object at 0...    15       Apple   \n",
       "\n",
       "     platform_os  browser  yes  no  \n",
       "80           101       15    1   0  \n",
       "84           101        5    1   0  \n",
       "103          162        6    1   0  \n",
       "209          162        6    1   0  \n",
       "255          101        7    1   0  "
      ]
     },
     "execution_count": 23,
     "metadata": {},
     "output_type": "execute_result"
    }
   ],
   "source": [
    "# getting users who only selects yes or no\n",
    "response = response[response['yes'] == 1].append(response[response['no'] == 1])\n",
    "response.head()"
   ]
  },
  {
   "cell_type": "code",
   "execution_count": 24,
   "metadata": {},
   "outputs": [
    {
     "data": {
      "text/plain": [
       "(110570, 9)"
      ]
     },
     "execution_count": 24,
     "metadata": {},
     "output_type": "execute_result"
    }
   ],
   "source": [
    "# getting size of the new dataframe\n",
    "response.shape"
   ]
  },
  {
   "cell_type": "code",
   "execution_count": 25,
   "metadata": {},
   "outputs": [
    {
     "data": {
      "text/html": [
       "<div>\n",
       "<style scoped>\n",
       "    .dataframe tbody tr th:only-of-type {\n",
       "        vertical-align: middle;\n",
       "    }\n",
       "\n",
       "    .dataframe tbody tr th {\n",
       "        vertical-align: top;\n",
       "    }\n",
       "\n",
       "    .dataframe thead th {\n",
       "        text-align: right;\n",
       "    }\n",
       "</style>\n",
       "<table border=\"1\" class=\"dataframe\">\n",
       "  <thead>\n",
       "    <tr style=\"text-align: right;\">\n",
       "      <th></th>\n",
       "      <th>auction_id</th>\n",
       "      <th>experiment</th>\n",
       "      <th>date</th>\n",
       "      <th>hour</th>\n",
       "      <th>device_make</th>\n",
       "      <th>platform_os</th>\n",
       "      <th>browser</th>\n",
       "      <th>yes</th>\n",
       "      <th>no</th>\n",
       "    </tr>\n",
       "  </thead>\n",
       "  <tbody>\n",
       "    <tr>\n",
       "      <th>80</th>\n",
       "      <td>eb941471-f485-4516-b4d3-648e7838d53a</td>\n",
       "      <td>control</td>\n",
       "      <td>&lt;built-in method date of Timestamp object at 0...</td>\n",
       "      <td>15</td>\n",
       "      <td>Apple</td>\n",
       "      <td>101</td>\n",
       "      <td>15</td>\n",
       "      <td>1</td>\n",
       "      <td>0</td>\n",
       "    </tr>\n",
       "    <tr>\n",
       "      <th>84</th>\n",
       "      <td>622af8e2-7bcf-4681-a921-442e1f8378f1</td>\n",
       "      <td>control</td>\n",
       "      <td>&lt;built-in method date of Timestamp object at 0...</td>\n",
       "      <td>6</td>\n",
       "      <td>Apple</td>\n",
       "      <td>101</td>\n",
       "      <td>5</td>\n",
       "      <td>1</td>\n",
       "      <td>0</td>\n",
       "    </tr>\n",
       "    <tr>\n",
       "      <th>103</th>\n",
       "      <td>56a03982-6278-4083-9554-3a069dbc22c8</td>\n",
       "      <td>control</td>\n",
       "      <td>&lt;built-in method date of Timestamp object at 0...</td>\n",
       "      <td>20</td>\n",
       "      <td>Samsung</td>\n",
       "      <td>162</td>\n",
       "      <td>6</td>\n",
       "      <td>1</td>\n",
       "      <td>0</td>\n",
       "    </tr>\n",
       "    <tr>\n",
       "      <th>209</th>\n",
       "      <td>2711e2f3-a624-4243-800e-693a888bc394</td>\n",
       "      <td>control</td>\n",
       "      <td>&lt;built-in method date of Timestamp object at 0...</td>\n",
       "      <td>3</td>\n",
       "      <td>Samsung</td>\n",
       "      <td>162</td>\n",
       "      <td>6</td>\n",
       "      <td>1</td>\n",
       "      <td>0</td>\n",
       "    </tr>\n",
       "    <tr>\n",
       "      <th>255</th>\n",
       "      <td>822e43cb-47a4-4101-90bb-02e7e1c2f576</td>\n",
       "      <td>control</td>\n",
       "      <td>&lt;built-in method date of Timestamp object at 0...</td>\n",
       "      <td>15</td>\n",
       "      <td>Apple</td>\n",
       "      <td>101</td>\n",
       "      <td>7</td>\n",
       "      <td>1</td>\n",
       "      <td>0</td>\n",
       "    </tr>\n",
       "  </tbody>\n",
       "</table>\n",
       "</div>"
      ],
      "text/plain": [
       "                               auction_id experiment  \\\n",
       "80   eb941471-f485-4516-b4d3-648e7838d53a    control   \n",
       "84   622af8e2-7bcf-4681-a921-442e1f8378f1    control   \n",
       "103  56a03982-6278-4083-9554-3a069dbc22c8    control   \n",
       "209  2711e2f3-a624-4243-800e-693a888bc394    control   \n",
       "255  822e43cb-47a4-4101-90bb-02e7e1c2f576    control   \n",
       "\n",
       "                                                  date  hour device_make  \\\n",
       "80   <built-in method date of Timestamp object at 0...    15       Apple   \n",
       "84   <built-in method date of Timestamp object at 0...     6       Apple   \n",
       "103  <built-in method date of Timestamp object at 0...    20     Samsung   \n",
       "209  <built-in method date of Timestamp object at 0...     3     Samsung   \n",
       "255  <built-in method date of Timestamp object at 0...    15       Apple   \n",
       "\n",
       "     platform_os  browser  yes  no  \n",
       "80           101       15    1   0  \n",
       "84           101        5    1   0  \n",
       "103          162        6    1   0  \n",
       "209          162        6    1   0  \n",
       "255          101        7    1   0  "
      ]
     },
     "execution_count": 25,
     "metadata": {},
     "output_type": "execute_result"
    }
   ],
   "source": [
    "# finding the control group\n",
    "control_df = response[response['experiment'] == 'control']\n",
    "control_df.head(5)"
   ]
  },
  {
   "cell_type": "code",
   "execution_count": 26,
   "metadata": {},
   "outputs": [
    {
     "data": {
      "text/plain": [
       "(18899, 9)"
      ]
     },
     "execution_count": 26,
     "metadata": {},
     "output_type": "execute_result"
    }
   ],
   "source": [
    "# accessing control df shape\n",
    "control_df.shape"
   ]
  },
  {
   "cell_type": "markdown",
   "metadata": {},
   "source": [
    "There are 18899 people in the control group "
   ]
  },
  {
   "cell_type": "code",
   "execution_count": 27,
   "metadata": {},
   "outputs": [
    {
     "data": {
      "text/html": [
       "<div>\n",
       "<style scoped>\n",
       "    .dataframe tbody tr th:only-of-type {\n",
       "        vertical-align: middle;\n",
       "    }\n",
       "\n",
       "    .dataframe tbody tr th {\n",
       "        vertical-align: top;\n",
       "    }\n",
       "\n",
       "    .dataframe thead th {\n",
       "        text-align: right;\n",
       "    }\n",
       "</style>\n",
       "<table border=\"1\" class=\"dataframe\">\n",
       "  <thead>\n",
       "    <tr style=\"text-align: right;\">\n",
       "      <th></th>\n",
       "      <th>auction_id</th>\n",
       "      <th>experiment</th>\n",
       "      <th>date</th>\n",
       "      <th>hour</th>\n",
       "      <th>device_make</th>\n",
       "      <th>platform_os</th>\n",
       "      <th>browser</th>\n",
       "      <th>yes</th>\n",
       "      <th>no</th>\n",
       "    </tr>\n",
       "  </thead>\n",
       "  <tbody>\n",
       "    <tr>\n",
       "      <th>456356</th>\n",
       "      <td>143da30d-ebde-467f-8d66-acc80a4ff898</td>\n",
       "      <td>exposed</td>\n",
       "      <td>&lt;built-in method date of Timestamp object at 0...</td>\n",
       "      <td>19</td>\n",
       "      <td>Samsung</td>\n",
       "      <td>101</td>\n",
       "      <td>15</td>\n",
       "      <td>1</td>\n",
       "      <td>0</td>\n",
       "    </tr>\n",
       "    <tr>\n",
       "      <th>456358</th>\n",
       "      <td>28304800-7650-4dae-84be-17e5b5c04868</td>\n",
       "      <td>exposed</td>\n",
       "      <td>&lt;built-in method date of Timestamp object at 0...</td>\n",
       "      <td>4</td>\n",
       "      <td>Samsung</td>\n",
       "      <td>101</td>\n",
       "      <td>6</td>\n",
       "      <td>1</td>\n",
       "      <td>0</td>\n",
       "    </tr>\n",
       "    <tr>\n",
       "      <th>456364</th>\n",
       "      <td>f6d8f3f7-75b6-45a2-a277-793f3b387398</td>\n",
       "      <td>exposed</td>\n",
       "      <td>&lt;built-in method date of Timestamp object at 0...</td>\n",
       "      <td>8</td>\n",
       "      <td>Apple</td>\n",
       "      <td>101</td>\n",
       "      <td>7</td>\n",
       "      <td>1</td>\n",
       "      <td>0</td>\n",
       "    </tr>\n",
       "    <tr>\n",
       "      <th>456365</th>\n",
       "      <td>dd0355b7-b1cd-4c87-bf70-2c2093dd61b2</td>\n",
       "      <td>exposed</td>\n",
       "      <td>&lt;built-in method date of Timestamp object at 0...</td>\n",
       "      <td>0</td>\n",
       "      <td>Apple</td>\n",
       "      <td>163</td>\n",
       "      <td>7</td>\n",
       "      <td>1</td>\n",
       "      <td>0</td>\n",
       "    </tr>\n",
       "    <tr>\n",
       "      <th>456368</th>\n",
       "      <td>9728e114-5e94-4fb9-a193-44766e2abc55</td>\n",
       "      <td>exposed</td>\n",
       "      <td>&lt;built-in method date of Timestamp object at 0...</td>\n",
       "      <td>14</td>\n",
       "      <td>Samsung</td>\n",
       "      <td>162</td>\n",
       "      <td>6</td>\n",
       "      <td>1</td>\n",
       "      <td>0</td>\n",
       "    </tr>\n",
       "  </tbody>\n",
       "</table>\n",
       "</div>"
      ],
      "text/plain": [
       "                                  auction_id experiment  \\\n",
       "456356  143da30d-ebde-467f-8d66-acc80a4ff898    exposed   \n",
       "456358  28304800-7650-4dae-84be-17e5b5c04868    exposed   \n",
       "456364  f6d8f3f7-75b6-45a2-a277-793f3b387398    exposed   \n",
       "456365  dd0355b7-b1cd-4c87-bf70-2c2093dd61b2    exposed   \n",
       "456368  9728e114-5e94-4fb9-a193-44766e2abc55    exposed   \n",
       "\n",
       "                                                     date  hour device_make  \\\n",
       "456356  <built-in method date of Timestamp object at 0...    19     Samsung   \n",
       "456358  <built-in method date of Timestamp object at 0...     4     Samsung   \n",
       "456364  <built-in method date of Timestamp object at 0...     8       Apple   \n",
       "456365  <built-in method date of Timestamp object at 0...     0       Apple   \n",
       "456368  <built-in method date of Timestamp object at 0...    14     Samsung   \n",
       "\n",
       "        platform_os  browser  yes  no  \n",
       "456356          101       15    1   0  \n",
       "456358          101        6    1   0  \n",
       "456364          101        7    1   0  \n",
       "456365          163        7    1   0  \n",
       "456368          162        6    1   0  "
      ]
     },
     "execution_count": 27,
     "metadata": {},
     "output_type": "execute_result"
    }
   ],
   "source": [
    "# finding the exposed group\n",
    "exposed_df = response[response['experiment'] == 'exposed']\n",
    "exposed_df.head(5)"
   ]
  },
  {
   "cell_type": "code",
   "execution_count": 28,
   "metadata": {},
   "outputs": [
    {
     "data": {
      "text/plain": [
       "(91671, 9)"
      ]
     },
     "execution_count": 28,
     "metadata": {},
     "output_type": "execute_result"
    }
   ],
   "source": [
    "# accessing exposed group\n",
    "exposed_df.shape"
   ]
  },
  {
   "cell_type": "markdown",
   "metadata": {},
   "source": [
    "There are 91671 number of people in the exposed group"
   ]
  },
  {
   "cell_type": "code",
   "execution_count": 29,
   "metadata": {},
   "outputs": [
    {
     "data": {
      "text/html": [
       "<div>\n",
       "<style scoped>\n",
       "    .dataframe tbody tr th:only-of-type {\n",
       "        vertical-align: middle;\n",
       "    }\n",
       "\n",
       "    .dataframe tbody tr th {\n",
       "        vertical-align: top;\n",
       "    }\n",
       "\n",
       "    .dataframe thead th {\n",
       "        text-align: right;\n",
       "    }\n",
       "</style>\n",
       "<table border=\"1\" class=\"dataframe\">\n",
       "  <thead>\n",
       "    <tr style=\"text-align: right;\">\n",
       "      <th></th>\n",
       "      <th>experiment</th>\n",
       "      <th>count</th>\n",
       "    </tr>\n",
       "  </thead>\n",
       "  <tbody>\n",
       "    <tr>\n",
       "      <th>0</th>\n",
       "      <td>exposed</td>\n",
       "      <td>91671</td>\n",
       "    </tr>\n",
       "    <tr>\n",
       "      <th>1</th>\n",
       "      <td>control</td>\n",
       "      <td>18899</td>\n",
       "    </tr>\n",
       "  </tbody>\n",
       "</table>\n",
       "</div>"
      ],
      "text/plain": [
       "  experiment  count\n",
       "0    exposed  91671\n",
       "1    control  18899"
      ]
     },
     "execution_count": 29,
     "metadata": {},
     "output_type": "execute_result"
    }
   ],
   "source": [
    "# grouping by experiment and its count\n",
    "experiment_groups = response.groupby(['experiment']).agg({'experiment': ['count']})\n",
    "experiment_groups.columns = ['count']\n",
    "experiment_groups = experiment_groups.sort_values(by='count', ascending=False)\n",
    "experiment_groups = experiment_groups.reset_index()\n",
    "experiment_groups.head()"
   ]
  },
  {
   "cell_type": "code",
   "execution_count": 31,
   "metadata": {},
   "outputs": [
    {
     "data": {
      "text/plain": [
       "<Figure size 900x700 with 0 Axes>"
      ]
     },
     "metadata": {},
     "output_type": "display_data"
    },
    {
     "data": {
      "image/png": "[encoded data removed]",
      "text/plain": [
       "<Figure size 1400x700 with 1 Axes>"
      ]
     },
     "metadata": {},
     "output_type": "display_data"
    }
   ],
   "source": [
    "# histogram visual\n",
    "fig = Plots.plot_hist(response,'experiment','lime')"
   ]
  },
  {
   "cell_type": "code",
   "execution_count": null,
   "metadata": {},
   "outputs": [],
   "source": []
  }
 ],
 "metadata": {
  "kernelspec": {
   "display_name": "Python 3.10.4 ('data_science_ev')",
   "language": "python",
   "name": "python3"
  },
  "language_info": {
   "codemirror_mode": {
    "name": "ipython",
    "version": 3
   },
   "file_extension": ".py",
   "mimetype": "text/x-python",
   "name": "python",
   "nbconvert_exporter": "python",
   "pygments_lexer": "ipython3",
   "version": "3.10.4"
  },
  "orig_nbformat": 4,
  "vscode": {
   "interpreter": {
    "hash": "073982b49d870db18f50eddc34c509fef1bde49743137523dd1fd48f779462dc"
   }
  }
 },
 "nbformat": 4,
 "nbformat_minor": 2
}
